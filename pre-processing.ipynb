{
 "cells": [
  {
   "cell_type": "code",
   "execution_count": 1,
   "metadata": {},
   "outputs": [],
   "source": [
    "import os\n",
    "import cv2\n",
    "import numpy as np\n",
    "from skimage import exposure\n",
    "from skimage.restoration import denoise_nl_means\n",
    "from skimage.transform import resize\n",
    "from albumentations import (\n",
    "    Compose,\n",
    "    HorizontalFlip,\n",
    "    VerticalFlip,\n",
    "    RandomRotate90,\n",
    "    GaussNoise\n",
    ")"
   ]
  },
  {
   "cell_type": "code",
   "execution_count": 2,
   "metadata": {},
   "outputs": [],
   "source": [
    "# Step 1: Image resizing and normalization\n",
    "def resize_and_normalize(image, desired_width, desired_height):\n",
    "    resized_image = resize(image, (desired_height, desired_width))\n",
    "    normalized_image = exposure.rescale_intensity(resized_image, out_range=(0, 255))\n",
    "    return normalized_image"
   ]
  },
  {
   "cell_type": "code",
   "execution_count": 3,
   "metadata": {},
   "outputs": [],
   "source": [
    "# Step 2: Image augmentation\n",
    "def augment_image(image):\n",
    "    augmentation_transform = Compose([\n",
    "        HorizontalFlip(p=0.5),\n",
    "        VerticalFlip(p=0.5),\n",
    "        RandomRotate90(p=0.5),\n",
    "        GaussNoise(p=0.2)\n",
    "    ])\n",
    "    augmented_image = augmentation_transform(image=image)[\"image\"]\n",
    "    return augmented_image"
   ]
  },
  {
   "cell_type": "code",
   "execution_count": 4,
   "metadata": {},
   "outputs": [],
   "source": [
    "# Step 3: Noise reduction\n",
    "def reduce_noise(image):\n",
    "    denoised_image = denoise_nl_means(image, patch_size=5, patch_distance=3, h=0.8)\n",
    "    return denoised_image"
   ]
  },
  {
   "cell_type": "code",
   "execution_count": 5,
   "metadata": {},
   "outputs": [],
   "source": [
    "# # Step 4: Contrast enhancement\n",
    "# def enhance_contrast(image, alpha=1.5, beta=0):\n",
    "#     enhanced_image = cv2.convertScaleAbs(image, alpha=alpha, beta=beta)\n",
    "#     return enhanced_image"
   ]
  },
  {
   "cell_type": "code",
   "execution_count": 6,
   "metadata": {},
   "outputs": [],
   "source": [
    "# Step 5: ROI extraction (Example: Keep only the center region)\n",
    "def extract_roi(image):\n",
    "    height, width = image.shape[:2]\n",
    "    roi_width = int(width * 0.8)\n",
    "    roi_height = int(height * 0.9)\n",
    "    x = int((width - roi_width) / 2)\n",
    "    y = int((height - roi_height) / 2)\n",
    "    roi = image[y:y+roi_height, x:x+roi_width]\n",
    "    return roi"
   ]
  },
  {
   "cell_type": "code",
   "execution_count": 7,
   "metadata": {},
   "outputs": [],
   "source": [
    "# Path to the folder containing the raw PNG images\n",
    "folder_path = \"C:/AI PROJECT 2/Dataset/boneage-training-dataset-raw/boneage-training-dataset\"\n",
    "\n",
    "# Output folder for preprocessed images\n",
    "output_folder = \"C:/AI PROJECT 2/Dataset/boneage-training-dataset\"\n",
    "\n",
    "# Desired dimensions for resizing\n",
    "desired_width = 256\n",
    "desired_height = 256"
   ]
  },
  {
   "cell_type": "code",
   "execution_count": 8,
   "metadata": {},
   "outputs": [],
   "source": [
    "# Iterate through each file in the folder\n",
    "for filename in os.listdir(folder_path):\n",
    "    if filename.endswith(\".png\"):\n",
    "        # Read the image\n",
    "        image_path = os.path.join(folder_path, filename)\n",
    "        image = cv2.imread(image_path, cv2.IMREAD_GRAYSCALE)\n",
    "\n",
    "        # Step 1: Image resizing and normalization\n",
    "        resized_normalized_image = resize_and_normalize(image, desired_width, desired_height)\n",
    "\n",
    "        # Step 2: Image augmentation\n",
    "        augmented_image = augment_image(resized_normalized_image)\n",
    "\n",
    "        # Step 3: Noise reduction\n",
    "        denoised_image = reduce_noise(augmented_image)\n",
    "\n",
    "        # Step 4: Contrast enhancement\n",
    "        contrast_enhanced_image = enhance_contrast(denoised_image)\n",
    "\n",
    "        # Step 5: ROI extraction\n",
    "        roi = extract_roi(contrast_enhanced_image)\n",
    "\n",
    "        # Save the preprocessed image to the output folder\n",
    "        output_path = os.path.join(output_folder, filename)\n",
    "        cv2.imwrite(output_path, roi)"
   ]
  }
 ],
 "metadata": {
  "kernelspec": {
   "display_name": "Python 3",
   "language": "python",
   "name": "python3"
  },
  "language_info": {
   "codemirror_mode": {
    "name": "ipython",
    "version": 3
   },
   "file_extension": ".py",
   "mimetype": "text/x-python",
   "name": "python",
   "nbconvert_exporter": "python",
   "pygments_lexer": "ipython3",
   "version": "3.11.1"
  },
  "orig_nbformat": 4
 },
 "nbformat": 4,
 "nbformat_minor": 2
}
